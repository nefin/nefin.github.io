{
 "cells": [
  {
   "cell_type": "code",
   "execution_count": 1,
   "id": "2781291e",
   "metadata": {},
   "outputs": [],
   "source": [
    "import pandas as pd"
   ]
  },
  {
   "cell_type": "code",
   "execution_count": 33,
   "id": "4a19e943",
   "metadata": {},
   "outputs": [
    {
     "name": "stdout",
     "output_type": "stream",
     "text": [
      "IVol-BR.csv             dividend_yield.html     risk_factors.html\r\n",
      "Market_Liquidity.csv    illiquidity_index.html  short_interest.csv\r\n",
      "Market_Liquidity.xls    loan_fees.csv           short_interest.html\r\n",
      "\u001b[34mPortfolios\u001b[m\u001b[m/             loan_fees.html          short_interest.xls\r\n",
      "cost_of_equity.html     loan_fees.xls           spot_rate_curve.html\r\n",
      "data_sample.csv         methodology.html        volatility_index.html\r\n",
      "dividend_yield.csv      portfolios.html\r\n"
     ]
    }
   ],
   "source": [
    "ls ../data"
   ]
  },
  {
   "cell_type": "code",
   "execution_count": 8,
   "id": "2f6371c3",
   "metadata": {},
   "outputs": [
    {
     "name": "stdout",
     "output_type": "stream",
     "text": [
      "dividend_yield.png  loan_fees.png       short_interest.png\r\n",
      "dividend_yield.xls  loan_fees.xls       short_interest.xls\r\n"
     ]
    }
   ],
   "source": [
    "ls ../resources/Predictability/dividend_yield.xls"
   ]
  },
  {
   "cell_type": "code",
   "execution_count": 20,
   "id": "260b0e84",
   "metadata": {},
   "outputs": [
    {
     "name": "stdout",
     "output_type": "stream",
     "text": [
      "IVol-BR.csv             dividend_yield.html     risk_factors.html\r\n",
      "Market_Liquidity.xls    illiquidity_index.html  short_interest.html\r\n",
      "cost_of_equity.html     loan_fees.html          spot_rate_curve.html\r\n",
      "data_sample.csv         methodology.html        volatility_index.html\r\n",
      "dividend_yield.csv      portfolios.html\r\n"
     ]
    }
   ],
   "source": [
    "ls ../data/Market_Liquidity.xls"
   ]
  },
  {
   "cell_type": "code",
   "execution_count": 62,
   "id": "eee3726d",
   "metadata": {},
   "outputs": [],
   "source": [
    "df = pd.read_excel(\"../resources/spot_rate_curve/spot_rate_curve.xls\")"
   ]
  },
  {
   "cell_type": "code",
   "execution_count": 63,
   "id": "accdfc4c",
   "metadata": {},
   "outputs": [],
   "source": [
    "df.to_csv(\"../resources/spot_rate_curve/spot_rate_curve.csv\")"
   ]
  },
  {
   "cell_type": "code",
   "execution_count": 64,
   "id": "2c7398b7",
   "metadata": {},
   "outputs": [
    {
     "data": {
      "text/html": [
       "<div>\n",
       "<style scoped>\n",
       "    .dataframe tbody tr th:only-of-type {\n",
       "        vertical-align: middle;\n",
       "    }\n",
       "\n",
       "    .dataframe tbody tr th {\n",
       "        vertical-align: top;\n",
       "    }\n",
       "\n",
       "    .dataframe thead th {\n",
       "        text-align: right;\n",
       "    }\n",
       "</style>\n",
       "<table border=\"1\" class=\"dataframe\">\n",
       "  <thead>\n",
       "    <tr style=\"text-align: right;\">\n",
       "      <th></th>\n",
       "      <th>Date</th>\n",
       "      <th>1 month</th>\n",
       "      <th>2 months</th>\n",
       "      <th>3 months</th>\n",
       "      <th>6 months</th>\n",
       "      <th>1 year</th>\n",
       "      <th>3 years</th>\n",
       "      <th>5 years</th>\n",
       "    </tr>\n",
       "  </thead>\n",
       "  <tbody>\n",
       "    <tr>\n",
       "      <th>0</th>\n",
       "      <td>2002-01-02</td>\n",
       "      <td>0.189987</td>\n",
       "      <td>0.189776</td>\n",
       "      <td>0.190118</td>\n",
       "      <td>0.191517</td>\n",
       "      <td>0.198600</td>\n",
       "      <td>NaN</td>\n",
       "      <td>NaN</td>\n",
       "    </tr>\n",
       "    <tr>\n",
       "      <th>1</th>\n",
       "      <td>2002-01-03</td>\n",
       "      <td>0.189390</td>\n",
       "      <td>0.187865</td>\n",
       "      <td>0.187645</td>\n",
       "      <td>0.188590</td>\n",
       "      <td>0.194629</td>\n",
       "      <td>NaN</td>\n",
       "      <td>NaN</td>\n",
       "    </tr>\n",
       "    <tr>\n",
       "      <th>2</th>\n",
       "      <td>2002-01-04</td>\n",
       "      <td>0.189705</td>\n",
       "      <td>0.189107</td>\n",
       "      <td>0.189494</td>\n",
       "      <td>0.191172</td>\n",
       "      <td>0.197771</td>\n",
       "      <td>NaN</td>\n",
       "      <td>NaN</td>\n",
       "    </tr>\n",
       "    <tr>\n",
       "      <th>3</th>\n",
       "      <td>2002-01-07</td>\n",
       "      <td>0.189091</td>\n",
       "      <td>0.188092</td>\n",
       "      <td>0.188116</td>\n",
       "      <td>0.189929</td>\n",
       "      <td>0.197139</td>\n",
       "      <td>NaN</td>\n",
       "      <td>NaN</td>\n",
       "    </tr>\n",
       "    <tr>\n",
       "      <th>4</th>\n",
       "      <td>2002-01-08</td>\n",
       "      <td>0.189403</td>\n",
       "      <td>0.188611</td>\n",
       "      <td>0.188758</td>\n",
       "      <td>0.190590</td>\n",
       "      <td>0.198555</td>\n",
       "      <td>NaN</td>\n",
       "      <td>NaN</td>\n",
       "    </tr>\n",
       "    <tr>\n",
       "      <th>...</th>\n",
       "      <td>...</td>\n",
       "      <td>...</td>\n",
       "      <td>...</td>\n",
       "      <td>...</td>\n",
       "      <td>...</td>\n",
       "      <td>...</td>\n",
       "      <td>...</td>\n",
       "      <td>...</td>\n",
       "    </tr>\n",
       "    <tr>\n",
       "      <th>4553</th>\n",
       "      <td>2020-05-25</td>\n",
       "      <td>0.027107</td>\n",
       "      <td>0.025456</td>\n",
       "      <td>0.024730</td>\n",
       "      <td>0.024259</td>\n",
       "      <td>0.025945</td>\n",
       "      <td>0.047726</td>\n",
       "      <td>0.062990</td>\n",
       "    </tr>\n",
       "    <tr>\n",
       "      <th>4554</th>\n",
       "      <td>2020-05-26</td>\n",
       "      <td>0.026949</td>\n",
       "      <td>0.025248</td>\n",
       "      <td>0.024543</td>\n",
       "      <td>0.024076</td>\n",
       "      <td>0.026171</td>\n",
       "      <td>0.047596</td>\n",
       "      <td>0.062090</td>\n",
       "    </tr>\n",
       "    <tr>\n",
       "      <th>4555</th>\n",
       "      <td>2020-05-27</td>\n",
       "      <td>0.026845</td>\n",
       "      <td>0.025180</td>\n",
       "      <td>0.024498</td>\n",
       "      <td>0.024082</td>\n",
       "      <td>0.026443</td>\n",
       "      <td>0.047444</td>\n",
       "      <td>0.061765</td>\n",
       "    </tr>\n",
       "    <tr>\n",
       "      <th>4556</th>\n",
       "      <td>2020-05-28</td>\n",
       "      <td>0.026553</td>\n",
       "      <td>0.024784</td>\n",
       "      <td>0.024212</td>\n",
       "      <td>0.023731</td>\n",
       "      <td>0.025828</td>\n",
       "      <td>0.047268</td>\n",
       "      <td>0.062181</td>\n",
       "    </tr>\n",
       "    <tr>\n",
       "      <th>4557</th>\n",
       "      <td>2020-05-29</td>\n",
       "      <td>0.026406</td>\n",
       "      <td>0.024602</td>\n",
       "      <td>0.023644</td>\n",
       "      <td>0.023155</td>\n",
       "      <td>0.025504</td>\n",
       "      <td>0.046862</td>\n",
       "      <td>0.061579</td>\n",
       "    </tr>\n",
       "  </tbody>\n",
       "</table>\n",
       "<p>4558 rows × 8 columns</p>\n",
       "</div>"
      ],
      "text/plain": [
       "           Date   1 month  2 months  3 months  6 months    1 year   3 years  \\\n",
       "0    2002-01-02  0.189987  0.189776  0.190118  0.191517  0.198600       NaN   \n",
       "1    2002-01-03  0.189390  0.187865  0.187645  0.188590  0.194629       NaN   \n",
       "2    2002-01-04  0.189705  0.189107  0.189494  0.191172  0.197771       NaN   \n",
       "3    2002-01-07  0.189091  0.188092  0.188116  0.189929  0.197139       NaN   \n",
       "4    2002-01-08  0.189403  0.188611  0.188758  0.190590  0.198555       NaN   \n",
       "...         ...       ...       ...       ...       ...       ...       ...   \n",
       "4553 2020-05-25  0.027107  0.025456  0.024730  0.024259  0.025945  0.047726   \n",
       "4554 2020-05-26  0.026949  0.025248  0.024543  0.024076  0.026171  0.047596   \n",
       "4555 2020-05-27  0.026845  0.025180  0.024498  0.024082  0.026443  0.047444   \n",
       "4556 2020-05-28  0.026553  0.024784  0.024212  0.023731  0.025828  0.047268   \n",
       "4557 2020-05-29  0.026406  0.024602  0.023644  0.023155  0.025504  0.046862   \n",
       "\n",
       "       5 years  \n",
       "0          NaN  \n",
       "1          NaN  \n",
       "2          NaN  \n",
       "3          NaN  \n",
       "4          NaN  \n",
       "...        ...  \n",
       "4553  0.062990  \n",
       "4554  0.062090  \n",
       "4555  0.061765  \n",
       "4556  0.062181  \n",
       "4557  0.061579  \n",
       "\n",
       "[4558 rows x 8 columns]"
      ]
     },
     "execution_count": 64,
     "metadata": {},
     "output_type": "execute_result"
    }
   ],
   "source": [
    "df"
   ]
  },
  {
   "cell_type": "code",
   "execution_count": null,
   "id": "dc1ba6a0",
   "metadata": {},
   "outputs": [],
   "source": []
  },
  {
   "cell_type": "code",
   "execution_count": 37,
   "id": "5c1173bc",
   "metadata": {},
   "outputs": [],
   "source": [
    "import os"
   ]
  },
  {
   "cell_type": "code",
   "execution_count": 47,
   "id": "a8459782",
   "metadata": {},
   "outputs": [],
   "source": [
    "from os import listdir\n",
    "from os.path import isfile, join\n",
    "onlyfiles = [f for f in listdir(\"../resources/Report/\") if isfile(join(\"../resources/Report/\", f))]"
   ]
  },
  {
   "cell_type": "code",
   "execution_count": 58,
   "id": "da6219ca",
   "metadata": {},
   "outputs": [],
   "source": [
    "path = \"../resources/Report/\""
   ]
  },
  {
   "cell_type": "code",
   "execution_count": 60,
   "id": "e1b7e75e",
   "metadata": {},
   "outputs": [],
   "source": [
    "for f in onlyfiles:\n",
    "    temp = f.split(\"_\")\n",
    "    dia = temp[1]\n",
    "    mes = temp[2]\n",
    "    ano = temp[3][:4]\n",
    "    \n",
    "    novo_nome = ano+mes+dia+\"_report.pdf\"\n",
    "    os.rename(path+f,path+novo_nome)\n",
    "#     print(path+f,path+novo_nome)"
   ]
  },
  {
   "cell_type": "code",
   "execution_count": 42,
   "id": "b26afe90",
   "metadata": {},
   "outputs": [],
   "source": [
    "import os\n",
    "\n",
    "# os.rename('a.txt', 'b.kml')"
   ]
  },
  {
   "cell_type": "code",
   "execution_count": null,
   "id": "b1214f56",
   "metadata": {},
   "outputs": [],
   "source": [
    "os."
   ]
  },
  {
   "cell_type": "code",
   "execution_count": 43,
   "id": "f88df206",
   "metadata": {},
   "outputs": [
    {
     "name": "stdout",
     "output_type": "stream",
     "text": [
      "converting_xls_to_csv.ipynb\r\n"
     ]
    }
   ],
   "source": [
    "ls"
   ]
  },
  {
   "cell_type": "code",
   "execution_count": 46,
   "id": "9e432b16",
   "metadata": {},
   "outputs": [
    {
     "name": "stdout",
     "output_type": "stream",
     "text": [
      "report_01_01_2018.pdf  report_11_02_2019.pdf  report_21_06_2021.pdf\r\n",
      "report_01_02_2016.pdf  report_11_03_2019.pdf  report_21_08_2017.pdf\r\n",
      "report_01_02_2021.pdf  report_11_04_2016.pdf  report_21_09_2020.pdf\r\n",
      "report_01_03_2021.pdf  report_11_05_2020.pdf  report_21_10_2019.pdf\r\n",
      "report_01_04_2019.pdf  report_11_06_2018.pdf  report_21_11_2016.pdf\r\n",
      "report_01_05_2017.pdf  report_11_07_2016.pdf  report_21_12_2015.pdf\r\n",
      "report_01_06_2020.pdf  report_11_09_2017.pdf  report_21_12_2020.pdf\r\n",
      "report_01_07_2019.pdf  report_11_10_2021.pdf  report_22_01_2018.pdf\r\n",
      "report_01_08_2016.pdf  report_11_11_2019.pdf  report_22_02_2016.pdf\r\n",
      "report_01_10_2018.pdf  report_11_12_2017.pdf  report_22_02_2021.pdf\r\n",
      "report_01_11_2021.pdf  report_12_02_2018.pdf  report_22_03_2021.pdf\r\n",
      "report_02_01_2017.pdf  report_12_03_2018.pdf  report_22_04_2019.pdf\r\n",
      "report_02_03_2020.pdf  report_12_04_2021.pdf  report_22_05_2017.pdf\r\n",
      "report_02_04_2018.pdf  report_12_06_2017.pdf  report_22_06_2020.pdf\r\n",
      "report_02_05_2016.pdf  report_12_07_2021.pdf  report_22_07_2019.pdf\r\n",
      "report_02_07_2018.pdf  report_12_08_2019.pdf  report_22_08_2016.pdf\r\n",
      "report_02_08_2021.pdf  report_12_09_2016.pdf  report_22_10_2018.pdf\r\n",
      "report_02_09_2019.pdf  report_12_10_2020.pdf  report_22_11_2021.pdf\r\n",
      "report_02_10_2017.pdf  report_12_11_2018.pdf  report_23_01_2017.pdf\r\n",
      "report_02_11_2015.pdf  report_12_12_2016.pdf  report_23_03_2020.pdf\r\n",
      "report_02_11_2020.pdf  report_13_01_2020.pdf  report_23_04_2018.pdf\r\n",
      "report_02_12_2019.pdf  report_13_02_2017.pdf  report_23_05_2016.pdf\r\n",
      "report_03_01_2022.pdf  report_13_03_2017.pdf  report_23_07_2018.pdf\r\n",
      "report_03_02_2020.pdf  report_13_04_2020.pdf  report_23_08_2021.pdf\r\n",
      "report_03_04_2017.pdf  report_13_05_2019.pdf  report_23_09_2019.pdf\r\n",
      "report_03_05_2021.pdf  report_13_06_2016.pdf  report_23_10_2017.pdf\r\n",
      "report_03_06_2019.pdf  report_13_07_2020.pdf  report_23_11_2015.pdf\r\n",
      "report_03_07_2017.pdf  report_13_08_2018.pdf  report_23_11_2020.pdf\r\n",
      "report_03_08_2020.pdf  report_13_09_2021.pdf  report_23_12_2019.pdf\r\n",
      "report_03_09_2018.pdf  report_13_11_2017.pdf  report_24_01_2022.pdf\r\n",
      "report_03_10_2016.pdf  report_13_12_2021.pdf  report_24_02_2020.pdf\r\n",
      "report_03_12_2018.pdf  report_14_01_2019.pdf  report_24_04_2017.pdf\r\n",
      "report_04_01_2021.pdf  report_14_03_2016.pdf  report_24_05_2021.pdf\r\n",
      "report_04_02_2019.pdf  report_14_05_2018.pdf  report_24_06_2019.pdf\r\n",
      "report_04_03_2019.pdf  report_14_06_2021.pdf  report_24_07_2017.pdf\r\n",
      "report_04_04_2016.pdf  report_14_08_2017.pdf  report_24_08_2020.pdf\r\n",
      "report_04_05_2020.pdf  report_14_09_2020.pdf  report_24_09_2018.pdf\r\n",
      "report_04_06_2018.pdf  report_14_10_2019.pdf  report_24_10_2016.pdf\r\n",
      "report_04_07_2016.pdf  report_14_11_2016.pdf  report_24_12_2018.pdf\r\n",
      "report_04_09_2017.pdf  report_14_12_2015.pdf  report_25_01_2016.pdf\r\n",
      "report_04_10_2021.pdf  report_14_12_2020.pdf  report_25_01_2021.pdf\r\n",
      "report_04_11_2019.pdf  report_15_01_2018.pdf  report_25_02_2019.pdf\r\n",
      "report_04_12_2017.pdf  report_15_02_2021.pdf  report_25_03_2019.pdf\r\n",
      "report_05_02_2018.pdf  report_15_03_2021.pdf  report_25_04_2016.pdf\r\n",
      "report_05_03_2018.pdf  report_15_04_2019.pdf  report_25_05_2020.pdf\r\n",
      "report_05_04_2021.pdf  report_15_05_2017.pdf  report_25_06_2018.pdf\r\n",
      "report_05_06_2017.pdf  report_15_06_2020.pdf  report_25_07_2016.pdf\r\n",
      "report_05_07_2021.pdf  report_15_07_2019.pdf  report_25_09_2017.pdf\r\n",
      "report_05_08_2019.pdf  report_15_08_2016.pdf  report_25_10_2021.pdf\r\n",
      "report_05_09_2016.pdf  report_15_10_2018.pdf  report_25_11_2019.pdf\r\n",
      "report_05_10_2020.pdf  report_15_11_2021.pdf  report_25_12_2017.pdf\r\n",
      "report_05_11_2018.pdf  report_16_01_2017.pdf  report_26_02_2018.pdf\r\n",
      "report_05_12_2016.pdf  report_16_03_2020.pdf  report_26_03_2018.pdf\r\n",
      "report_06_01_2020.pdf  report_16_04_2018.pdf  report_26_04_2021.pdf\r\n",
      "report_06_02_2017.pdf  report_16_05_2016.pdf  report_26_06_2017.pdf\r\n",
      "report_06_03_2017.pdf  report_16_07_2018.pdf  report_26_07_2021.pdf\r\n",
      "report_06_04_2020.pdf  report_16_08_2021.pdf  report_26_08_2019.pdf\r\n",
      "report_06_05_2019.pdf  report_16_09_2019.pdf  report_26_09_2016.pdf\r\n",
      "report_06_06_2016.pdf  report_16_10_2017.pdf  report_26_10_2020.pdf\r\n",
      "report_06_07_2020.pdf  report_16_11_2015.pdf  report_26_11_2018.pdf\r\n",
      "report_06_08_2018.pdf  report_16_11_2020.pdf  report_26_12_2016.pdf\r\n",
      "report_06_09_2021.pdf  report_16_12_2019.pdf  report_27_01_2020.pdf\r\n",
      "report_06_11_2017.pdf  report_17_01_2022.pdf  report_27_02_2017.pdf\r\n",
      "report_06_12_2021.pdf  report_17_02_2020.pdf  report_27_03_2017.pdf\r\n",
      "report_07_01_2019.pdf  report_17_04_2017.pdf  report_27_04_2020.pdf\r\n",
      "report_07_03_2016.pdf  report_17_05_2021.pdf  report_27_05_2019.pdf\r\n",
      "report_07_05_2018.pdf  report_17_06_2019.pdf  report_27_06_2016.pdf\r\n",
      "report_07_06_2021.pdf  report_17_07_2017.pdf  report_27_07_2020.pdf\r\n",
      "report_07_08_2017.pdf  report_17_08_2020.pdf  report_27_08_2018.pdf\r\n",
      "report_07_09_2020.pdf  report_17_09_2018.pdf  report_27_09_2021.pdf\r\n",
      "report_07_10_2019.pdf  report_17_10_2016.pdf  report_27_11_2017.pdf\r\n",
      "report_07_11_2016.pdf  report_17_12_2018.pdf  report_27_12_2021.pdf\r\n",
      "report_07_12_2015.pdf  report_18_01_2016.pdf  report_28_01_2019.pdf\r\n",
      "report_07_12_2020.pdf  report_18_01_2021.pdf  report_28_03_2016.pdf\r\n",
      "report_08_01_2018.pdf  report_18_02_2019.pdf  report_28_05_2018.pdf\r\n",
      "report_08_02_2016.pdf  report_18_03_2019.pdf  report_28_06_2021.pdf\r\n",
      "report_08_02_2021.pdf  report_18_04_2016.pdf  report_28_08_2017.pdf\r\n",
      "report_08_03_2021.pdf  report_18_05_2020.pdf  report_28_09_2020.pdf\r\n",
      "report_08_04_2019.pdf  report_18_06_2018.pdf  report_28_10_2019.pdf\r\n",
      "report_08_05_2017.pdf  report_18_07_2016.pdf  report_28_11_2016.pdf\r\n",
      "report_08_06_2020.pdf  report_18_09_2017.pdf  report_28_12_2020.pdf\r\n",
      "report_08_07_2019.pdf  report_18_10_2021.pdf  report_29_01_2018.pdf\r\n",
      "report_08_08_2016.pdf  report_18_11_2019.pdf  report_29_02_2016.pdf\r\n",
      "report_08_10_2018.pdf  report_18_12_2017.pdf  report_29_03_2021.pdf\r\n",
      "report_08_11_2021.pdf  report_19_02_2018.pdf  report_29_04_2019.pdf\r\n",
      "report_09_01_2017.pdf  report_19_03_2018.pdf  report_29_05_2017.pdf\r\n",
      "report_09_03_2020.pdf  report_19_04_2021.pdf  report_29_06_2020.pdf\r\n",
      "report_09_04_2018.pdf  report_19_06_2017.pdf  report_29_07_2019.pdf\r\n",
      "report_09_05_2016.pdf  report_19_07_2021.pdf  report_29_08_2016.pdf\r\n",
      "report_09_07_2018.pdf  report_19_08_2019.pdf  report_29_10_2018.pdf\r\n",
      "report_09_08_2021.pdf  report_19_09_2016.pdf  report_29_11_2021.pdf\r\n",
      "report_09_09_2019.pdf  report_19_10_2020.pdf  report_30_01_2017.pdf\r\n",
      "report_09_10_2017.pdf  report_19_11_2018.pdf  report_30_03_2020.pdf\r\n",
      "report_09_11_2015.pdf  report_19_12_2016.pdf  report_30_04_2018.pdf\r\n",
      "report_09_11_2020.pdf  report_20_01_2020.pdf  report_30_05_2016.pdf\r\n",
      "report_09_12_2019.pdf  report_20_02_2017.pdf  report_30_07_2018.pdf\r\n",
      "report_10_01_2022.pdf  report_20_03_2017.pdf  report_30_08_2021.pdf\r\n",
      "report_10_02_2020.pdf  report_20_04_2020.pdf  report_30_09_2019.pdf\r\n",
      "report_10_04_2017.pdf  report_20_05_2019.pdf  report_30_10_2017.pdf\r\n",
      "report_10_05_2021.pdf  report_20_06_2016.pdf  report_30_11_2015.pdf\r\n",
      "report_10_06_2019.pdf  report_20_07_2020.pdf  report_30_11_2020.pdf\r\n",
      "report_10_07_2017.pdf  report_20_08_2018.pdf  report_30_12_2019.pdf\r\n",
      "report_10_08_2020.pdf  report_20_09_2021.pdf  report_31_01_2022.pdf\r\n",
      "report_10_09_2018.pdf  report_20_11_2017.pdf  report_31_05_2021.pdf\r\n",
      "report_10_10_2016.pdf  report_20_12_2021.pdf  report_31_07_2017.pdf\r\n",
      "report_10_12_2018.pdf  report_21_01_2019.pdf  report_31_08_2020.pdf\r\n",
      "report_11_01_2016.pdf  report_21_03_2016.pdf  report_31_10_2016.pdf\r\n",
      "report_11_01_2021.pdf  report_21_05_2018.pdf  report_31_12_2018.pdf\r\n"
     ]
    }
   ],
   "source": [
    "ls ../resources/Report/"
   ]
  },
  {
   "cell_type": "code",
   "execution_count": null,
   "id": "1df9c76c",
   "metadata": {},
   "outputs": [],
   "source": []
  }
 ],
 "metadata": {
  "kernelspec": {
   "display_name": "Python 3 (ipykernel)",
   "language": "python",
   "name": "python3"
  },
  "language_info": {
   "codemirror_mode": {
    "name": "ipython",
    "version": 3
   },
   "file_extension": ".py",
   "mimetype": "text/x-python",
   "name": "python",
   "nbconvert_exporter": "python",
   "pygments_lexer": "ipython3",
   "version": "3.9.9"
  }
 },
 "nbformat": 4,
 "nbformat_minor": 5
}
