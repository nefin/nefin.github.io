{
 "cells": [
  {
   "cell_type": "code",
   "execution_count": 1,
   "id": "b22e63e9",
   "metadata": {},
   "outputs": [],
   "source": [
    "import pandas as pd"
   ]
  },
  {
   "cell_type": "code",
   "execution_count": 33,
   "id": "3fe8fe34",
   "metadata": {},
   "outputs": [
    {
     "name": "stdout",
     "output_type": "stream",
     "text": [
      "IVol-BR.csv             dividend_yield.html     risk_factors.html\r\n",
      "Market_Liquidity.csv    illiquidity_index.html  short_interest.csv\r\n",
      "Market_Liquidity.xls    loan_fees.csv           short_interest.html\r\n",
      "\u001b[34mPortfolios\u001b[m\u001b[m/             loan_fees.html          short_interest.xls\r\n",
      "cost_of_equity.html     loan_fees.xls           spot_rate_curve.html\r\n",
      "data_sample.csv         methodology.html        volatility_index.html\r\n",
      "dividend_yield.csv      portfolios.html\r\n"
     ]
    }
   ],
   "source": [
    "ls ../data"
   ]
  },
  {
   "cell_type": "code",
   "execution_count": 8,
   "id": "6df00584",
   "metadata": {},
   "outputs": [
    {
     "name": "stdout",
     "output_type": "stream",
     "text": [
      "dividend_yield.png  loan_fees.png       short_interest.png\r\n",
      "dividend_yield.xls  loan_fees.xls       short_interest.xls\r\n"
     ]
    }
   ],
   "source": [
    "ls ../resources/Predictability/dividend_yield.xls"
   ]
  },
  {
   "cell_type": "code",
   "execution_count": 20,
   "id": "fec5ddbf",
   "metadata": {},
   "outputs": [
    {
     "name": "stdout",
     "output_type": "stream",
     "text": [
      "IVol-BR.csv             dividend_yield.html     risk_factors.html\r\n",
      "Market_Liquidity.xls    illiquidity_index.html  short_interest.html\r\n",
      "cost_of_equity.html     loan_fees.html          spot_rate_curve.html\r\n",
      "data_sample.csv         methodology.html        volatility_index.html\r\n",
      "dividend_yield.csv      portfolios.html\r\n"
     ]
    }
   ],
   "source": [
    "ls ../data/Market_Liquidity.xls"
   ]
  },
  {
   "cell_type": "code",
   "execution_count": 34,
   "id": "abbc501d",
   "metadata": {},
   "outputs": [],
   "source": [
    "df = pd.read_excel(\"../data/spot_rate_curve.xls\")"
   ]
  },
  {
   "cell_type": "code",
   "execution_count": 35,
   "id": "22985686",
   "metadata": {},
   "outputs": [],
   "source": [
    "df.to_csv(\"../data/spot_rate_curve.csv\")"
   ]
  },
  {
   "cell_type": "code",
   "execution_count": 36,
   "id": "ea811533",
   "metadata": {},
   "outputs": [
    {
     "data": {
      "text/html": [
       "<div>\n",
       "<style scoped>\n",
       "    .dataframe tbody tr th:only-of-type {\n",
       "        vertical-align: middle;\n",
       "    }\n",
       "\n",
       "    .dataframe tbody tr th {\n",
       "        vertical-align: top;\n",
       "    }\n",
       "\n",
       "    .dataframe thead th {\n",
       "        text-align: right;\n",
       "    }\n",
       "</style>\n",
       "<table border=\"1\" class=\"dataframe\">\n",
       "  <thead>\n",
       "    <tr style=\"text-align: right;\">\n",
       "      <th></th>\n",
       "      <th>Date</th>\n",
       "      <th>1 month</th>\n",
       "      <th>2 months</th>\n",
       "      <th>3 months</th>\n",
       "      <th>6 months</th>\n",
       "      <th>1 year</th>\n",
       "      <th>3 years</th>\n",
       "      <th>5 years</th>\n",
       "    </tr>\n",
       "  </thead>\n",
       "  <tbody>\n",
       "    <tr>\n",
       "      <th>0</th>\n",
       "      <td>2002-01-02</td>\n",
       "      <td>0.189987</td>\n",
       "      <td>0.189776</td>\n",
       "      <td>0.190118</td>\n",
       "      <td>0.191517</td>\n",
       "      <td>0.198600</td>\n",
       "      <td>NaN</td>\n",
       "      <td>NaN</td>\n",
       "    </tr>\n",
       "    <tr>\n",
       "      <th>1</th>\n",
       "      <td>2002-01-03</td>\n",
       "      <td>0.189390</td>\n",
       "      <td>0.187865</td>\n",
       "      <td>0.187645</td>\n",
       "      <td>0.188590</td>\n",
       "      <td>0.194629</td>\n",
       "      <td>NaN</td>\n",
       "      <td>NaN</td>\n",
       "    </tr>\n",
       "    <tr>\n",
       "      <th>2</th>\n",
       "      <td>2002-01-04</td>\n",
       "      <td>0.189705</td>\n",
       "      <td>0.189107</td>\n",
       "      <td>0.189494</td>\n",
       "      <td>0.191172</td>\n",
       "      <td>0.197771</td>\n",
       "      <td>NaN</td>\n",
       "      <td>NaN</td>\n",
       "    </tr>\n",
       "    <tr>\n",
       "      <th>3</th>\n",
       "      <td>2002-01-07</td>\n",
       "      <td>0.189091</td>\n",
       "      <td>0.188092</td>\n",
       "      <td>0.188116</td>\n",
       "      <td>0.189929</td>\n",
       "      <td>0.197139</td>\n",
       "      <td>NaN</td>\n",
       "      <td>NaN</td>\n",
       "    </tr>\n",
       "    <tr>\n",
       "      <th>4</th>\n",
       "      <td>2002-01-08</td>\n",
       "      <td>0.189403</td>\n",
       "      <td>0.188611</td>\n",
       "      <td>0.188758</td>\n",
       "      <td>0.190590</td>\n",
       "      <td>0.198555</td>\n",
       "      <td>NaN</td>\n",
       "      <td>NaN</td>\n",
       "    </tr>\n",
       "    <tr>\n",
       "      <th>...</th>\n",
       "      <td>...</td>\n",
       "      <td>...</td>\n",
       "      <td>...</td>\n",
       "      <td>...</td>\n",
       "      <td>...</td>\n",
       "      <td>...</td>\n",
       "      <td>...</td>\n",
       "      <td>...</td>\n",
       "    </tr>\n",
       "    <tr>\n",
       "      <th>4553</th>\n",
       "      <td>2020-05-25</td>\n",
       "      <td>0.027107</td>\n",
       "      <td>0.025456</td>\n",
       "      <td>0.024730</td>\n",
       "      <td>0.024259</td>\n",
       "      <td>0.025945</td>\n",
       "      <td>0.047726</td>\n",
       "      <td>0.062990</td>\n",
       "    </tr>\n",
       "    <tr>\n",
       "      <th>4554</th>\n",
       "      <td>2020-05-26</td>\n",
       "      <td>0.026949</td>\n",
       "      <td>0.025248</td>\n",
       "      <td>0.024543</td>\n",
       "      <td>0.024076</td>\n",
       "      <td>0.026171</td>\n",
       "      <td>0.047596</td>\n",
       "      <td>0.062090</td>\n",
       "    </tr>\n",
       "    <tr>\n",
       "      <th>4555</th>\n",
       "      <td>2020-05-27</td>\n",
       "      <td>0.026845</td>\n",
       "      <td>0.025180</td>\n",
       "      <td>0.024498</td>\n",
       "      <td>0.024082</td>\n",
       "      <td>0.026443</td>\n",
       "      <td>0.047444</td>\n",
       "      <td>0.061765</td>\n",
       "    </tr>\n",
       "    <tr>\n",
       "      <th>4556</th>\n",
       "      <td>2020-05-28</td>\n",
       "      <td>0.026553</td>\n",
       "      <td>0.024784</td>\n",
       "      <td>0.024212</td>\n",
       "      <td>0.023731</td>\n",
       "      <td>0.025828</td>\n",
       "      <td>0.047268</td>\n",
       "      <td>0.062181</td>\n",
       "    </tr>\n",
       "    <tr>\n",
       "      <th>4557</th>\n",
       "      <td>2020-05-29</td>\n",
       "      <td>0.026406</td>\n",
       "      <td>0.024602</td>\n",
       "      <td>0.023644</td>\n",
       "      <td>0.023155</td>\n",
       "      <td>0.025504</td>\n",
       "      <td>0.046862</td>\n",
       "      <td>0.061579</td>\n",
       "    </tr>\n",
       "  </tbody>\n",
       "</table>\n",
       "<p>4558 rows × 8 columns</p>\n",
       "</div>"
      ],
      "text/plain": [
       "           Date   1 month  2 months  3 months  6 months    1 year   3 years  \\\n",
       "0    2002-01-02  0.189987  0.189776  0.190118  0.191517  0.198600       NaN   \n",
       "1    2002-01-03  0.189390  0.187865  0.187645  0.188590  0.194629       NaN   \n",
       "2    2002-01-04  0.189705  0.189107  0.189494  0.191172  0.197771       NaN   \n",
       "3    2002-01-07  0.189091  0.188092  0.188116  0.189929  0.197139       NaN   \n",
       "4    2002-01-08  0.189403  0.188611  0.188758  0.190590  0.198555       NaN   \n",
       "...         ...       ...       ...       ...       ...       ...       ...   \n",
       "4553 2020-05-25  0.027107  0.025456  0.024730  0.024259  0.025945  0.047726   \n",
       "4554 2020-05-26  0.026949  0.025248  0.024543  0.024076  0.026171  0.047596   \n",
       "4555 2020-05-27  0.026845  0.025180  0.024498  0.024082  0.026443  0.047444   \n",
       "4556 2020-05-28  0.026553  0.024784  0.024212  0.023731  0.025828  0.047268   \n",
       "4557 2020-05-29  0.026406  0.024602  0.023644  0.023155  0.025504  0.046862   \n",
       "\n",
       "       5 years  \n",
       "0          NaN  \n",
       "1          NaN  \n",
       "2          NaN  \n",
       "3          NaN  \n",
       "4          NaN  \n",
       "...        ...  \n",
       "4553  0.062990  \n",
       "4554  0.062090  \n",
       "4555  0.061765  \n",
       "4556  0.062181  \n",
       "4557  0.061579  \n",
       "\n",
       "[4558 rows x 8 columns]"
      ]
     },
     "execution_count": 36,
     "metadata": {},
     "output_type": "execute_result"
    }
   ],
   "source": [
    "df"
   ]
  },
  {
   "cell_type": "code",
   "execution_count": null,
   "id": "ef70703c",
   "metadata": {},
   "outputs": [],
   "source": []
  }
 ],
 "metadata": {
  "kernelspec": {
   "display_name": "Python 3 (ipykernel)",
   "language": "python",
   "name": "python3"
  },
  "language_info": {
   "codemirror_mode": {
    "name": "ipython",
    "version": 3
   },
   "file_extension": ".py",
   "mimetype": "text/x-python",
   "name": "python",
   "nbconvert_exporter": "python",
   "pygments_lexer": "ipython3",
   "version": "3.9.9"
  }
 },
 "nbformat": 4,
 "nbformat_minor": 5
}
