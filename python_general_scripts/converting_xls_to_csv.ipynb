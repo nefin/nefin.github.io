{
 "cells": [
  {
   "cell_type": "code",
   "execution_count": 1,
   "id": "421d0d16",
   "metadata": {},
   "outputs": [],
   "source": [
    "import pandas as pd"
   ]
  },
  {
   "cell_type": "code",
   "execution_count": 25,
   "id": "9a0d72d0",
   "metadata": {},
   "outputs": [
    {
     "name": "stdout",
     "output_type": "stream",
     "text": [
      "IVol-BR.csv             dividend_yield.html     risk_factors.html\r\n",
      "Market_Liquidity.csv    illiquidity_index.html  short_interest.html\r\n",
      "Market_Liquidity.xls    loan_fees.html          short_interest.xls\r\n",
      "cost_of_equity.html     loan_fees.xls           spot_rate_curve.html\r\n",
      "data_sample.csv         methodology.html        volatility_index.html\r\n",
      "dividend_yield.csv      portfolios.html\r\n"
     ]
    }
   ],
   "source": [
    "ls ../data"
   ]
  },
  {
   "cell_type": "code",
   "execution_count": 8,
   "id": "56be119d",
   "metadata": {},
   "outputs": [
    {
     "name": "stdout",
     "output_type": "stream",
     "text": [
      "dividend_yield.png  loan_fees.png       short_interest.png\r\n",
      "dividend_yield.xls  loan_fees.xls       short_interest.xls\r\n"
     ]
    }
   ],
   "source": [
    "ls ../resources/Predictability/dividend_yield.xls"
   ]
  },
  {
   "cell_type": "code",
   "execution_count": 20,
   "id": "6bcd2324",
   "metadata": {},
   "outputs": [
    {
     "name": "stdout",
     "output_type": "stream",
     "text": [
      "IVol-BR.csv             dividend_yield.html     risk_factors.html\r\n",
      "Market_Liquidity.xls    illiquidity_index.html  short_interest.html\r\n",
      "cost_of_equity.html     loan_fees.html          spot_rate_curve.html\r\n",
      "data_sample.csv         methodology.html        volatility_index.html\r\n",
      "dividend_yield.csv      portfolios.html\r\n"
     ]
    }
   ],
   "source": [
    "ls ../data/Market_Liquidity.xls"
   ]
  },
  {
   "cell_type": "code",
   "execution_count": 26,
   "id": "42c030f9",
   "metadata": {},
   "outputs": [],
   "source": [
    "df = pd.read_excel(\"../data/loan_fees.xls\")"
   ]
  },
  {
   "cell_type": "code",
   "execution_count": 27,
   "id": "d0cc4816",
   "metadata": {},
   "outputs": [],
   "source": [
    "df.to_csv(\"../data/loan_fees.csv\")"
   ]
  },
  {
   "cell_type": "code",
   "execution_count": 28,
   "id": "287ebccf",
   "metadata": {},
   "outputs": [
    {
     "data": {
      "text/html": [
       "<div>\n",
       "<style scoped>\n",
       "    .dataframe tbody tr th:only-of-type {\n",
       "        vertical-align: middle;\n",
       "    }\n",
       "\n",
       "    .dataframe tbody tr th {\n",
       "        vertical-align: top;\n",
       "    }\n",
       "\n",
       "    .dataframe thead th {\n",
       "        text-align: right;\n",
       "    }\n",
       "</style>\n",
       "<table border=\"1\" class=\"dataframe\">\n",
       "  <thead>\n",
       "    <tr style=\"text-align: right;\">\n",
       "      <th></th>\n",
       "      <th>year</th>\n",
       "      <th>month</th>\n",
       "      <th>day</th>\n",
       "      <th>week_loan_fee</th>\n",
       "    </tr>\n",
       "  </thead>\n",
       "  <tbody>\n",
       "    <tr>\n",
       "      <th>0</th>\n",
       "      <td>2013</td>\n",
       "      <td>1</td>\n",
       "      <td>4</td>\n",
       "      <td>0.021148</td>\n",
       "    </tr>\n",
       "    <tr>\n",
       "      <th>1</th>\n",
       "      <td>2013</td>\n",
       "      <td>1</td>\n",
       "      <td>11</td>\n",
       "      <td>0.016700</td>\n",
       "    </tr>\n",
       "    <tr>\n",
       "      <th>2</th>\n",
       "      <td>2013</td>\n",
       "      <td>1</td>\n",
       "      <td>18</td>\n",
       "      <td>0.014895</td>\n",
       "    </tr>\n",
       "    <tr>\n",
       "      <th>3</th>\n",
       "      <td>2013</td>\n",
       "      <td>1</td>\n",
       "      <td>24</td>\n",
       "      <td>0.014664</td>\n",
       "    </tr>\n",
       "    <tr>\n",
       "      <th>4</th>\n",
       "      <td>2013</td>\n",
       "      <td>2</td>\n",
       "      <td>1</td>\n",
       "      <td>0.014341</td>\n",
       "    </tr>\n",
       "    <tr>\n",
       "      <th>...</th>\n",
       "      <td>...</td>\n",
       "      <td>...</td>\n",
       "      <td>...</td>\n",
       "      <td>...</td>\n",
       "    </tr>\n",
       "    <tr>\n",
       "      <th>467</th>\n",
       "      <td>2021</td>\n",
       "      <td>12</td>\n",
       "      <td>31</td>\n",
       "      <td>0.013440</td>\n",
       "    </tr>\n",
       "    <tr>\n",
       "      <th>468</th>\n",
       "      <td>2022</td>\n",
       "      <td>1</td>\n",
       "      <td>7</td>\n",
       "      <td>0.018912</td>\n",
       "    </tr>\n",
       "    <tr>\n",
       "      <th>469</th>\n",
       "      <td>2022</td>\n",
       "      <td>1</td>\n",
       "      <td>14</td>\n",
       "      <td>0.021320</td>\n",
       "    </tr>\n",
       "    <tr>\n",
       "      <th>470</th>\n",
       "      <td>2022</td>\n",
       "      <td>1</td>\n",
       "      <td>21</td>\n",
       "      <td>0.021272</td>\n",
       "    </tr>\n",
       "    <tr>\n",
       "      <th>471</th>\n",
       "      <td>2022</td>\n",
       "      <td>1</td>\n",
       "      <td>27</td>\n",
       "      <td>0.021962</td>\n",
       "    </tr>\n",
       "  </tbody>\n",
       "</table>\n",
       "<p>472 rows × 4 columns</p>\n",
       "</div>"
      ],
      "text/plain": [
       "     year  month  day  week_loan_fee\n",
       "0    2013      1    4       0.021148\n",
       "1    2013      1   11       0.016700\n",
       "2    2013      1   18       0.014895\n",
       "3    2013      1   24       0.014664\n",
       "4    2013      2    1       0.014341\n",
       "..    ...    ...  ...            ...\n",
       "467  2021     12   31       0.013440\n",
       "468  2022      1    7       0.018912\n",
       "469  2022      1   14       0.021320\n",
       "470  2022      1   21       0.021272\n",
       "471  2022      1   27       0.021962\n",
       "\n",
       "[472 rows x 4 columns]"
      ]
     },
     "execution_count": 28,
     "metadata": {},
     "output_type": "execute_result"
    }
   ],
   "source": [
    "df"
   ]
  },
  {
   "cell_type": "code",
   "execution_count": null,
   "id": "b9458c61",
   "metadata": {},
   "outputs": [],
   "source": []
  }
 ],
 "metadata": {
  "kernelspec": {
   "display_name": "Python 3 (ipykernel)",
   "language": "python",
   "name": "python3"
  },
  "language_info": {
   "codemirror_mode": {
    "name": "ipython",
    "version": 3
   },
   "file_extension": ".py",
   "mimetype": "text/x-python",
   "name": "python",
   "nbconvert_exporter": "python",
   "pygments_lexer": "ipython3",
   "version": "3.9.9"
  }
 },
 "nbformat": 4,
 "nbformat_minor": 5
}
